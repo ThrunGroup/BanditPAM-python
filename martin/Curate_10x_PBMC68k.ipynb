{
 "cells": [
  {
   "cell_type": "code",
   "execution_count": 1,
   "metadata": {},
   "outputs": [],
   "source": [
    "import scanpy as sc\n",
    "import numpy as np\n",
    "import pandas as pd\n",
    "import matplotlib.pyplot as plt"
   ]
  },
  {
   "cell_type": "code",
   "execution_count": 2,
   "metadata": {},
   "outputs": [],
   "source": [
    "DATA_PATH=\"/data/single_cell/fresh_68k_pbmc_donor_a_filtered_gene_bc_matrices\"\n",
    "GC_MAT_PATH = DATA_PATH + '/filtered_matrices_mex/hg19'\n",
    "ANALYSIS_10X_PATH = DATA_PATH + '/analysis_csv'\n",
    "OUTPUT_PATH = DATA_PATH + '/NUMPY_OUT'"
   ]
  },
  {
   "cell_type": "code",
   "execution_count": 3,
   "metadata": {},
   "outputs": [],
   "source": [
    "def load_10x(GC_MAT_PATH):\n",
    "    \"\"\"\n",
    "        https://support.10xgenomics.com/single-cell-gene-expression/datasets/1.1.0/fresh_68k_pbmc_donor_a\n",
    "    \"\"\"\n",
    "    filename_data = GC_MAT_PATH + '/matrix.mtx'\n",
    "    filename_genes = GC_MAT_PATH + '/genes.tsv'\n",
    "    filename_barcodes = GC_MAT_PATH + '/barcodes.tsv'\n",
    "\n",
    "    data = sc.read(filename_data, cache=True).transpose()\n",
    "    data.var_names = np.genfromtxt(filename_genes, dtype=str)[:, 1]\n",
    "    # data.smp_names = np.genfromtxt(filename_barcodes, dtype=str)\n",
    "    data.obs['barcode'] = np.genfromtxt(filename_barcodes, dtype=str)\n",
    "    data.obs.index = data.obs['barcode']\n",
    "    return data"
   ]
  },
  {
   "cell_type": "code",
   "execution_count": 4,
   "metadata": {},
   "outputs": [],
   "source": [
    "# Load 10x 68k PBMC\n",
    "adata = load_10x(GC_MAT_PATH)"
   ]
  },
  {
   "cell_type": "code",
   "execution_count": 5,
   "metadata": {},
   "outputs": [],
   "source": [
    "# Load 10x analysis\n",
    "df_pca = pd.read_csv(ANALYSIS_10X_PATH+'/pca/projection.csv', sep=',')\n",
    "set_cell_keep = set(df_pca['Barcode'])"
   ]
  },
  {
   "cell_type": "code",
   "execution_count": 7,
   "metadata": {},
   "outputs": [
    {
     "name": "stderr",
     "output_type": "stream",
     "text": [
      "Trying to set attribute `.var` of view, copying.\n",
      "Variable names are not unique. To make them unique, call `.var_names_make_unique`.\n",
      "Variable names are not unique. To make them unique, call `.var_names_make_unique`.\n",
      "Variable names are not unique. To make them unique, call `.var_names_make_unique`.\n",
      "Variable names are not unique. To make them unique, call `.var_names_make_unique`.\n"
     ]
    }
   ],
   "source": [
    "# Select cell consistent with the 10x analysis\n",
    "ind_select = [x in set_cell_keep for x in adata.obs['barcode']]\n",
    "adata = adata[ind_select, :]\n",
    "# Select genes expressed in more than 100 cells \n",
    "sc.pp.filter_genes(adata, min_cells=100)\n",
    "# Size factor normalization (to have 1000 reads)\n",
    "sc.pp.normalize_total(adata, target_sum=1000)\n",
    "# log1p transform \n",
    "sc.pp.log1p(adata)"
   ]
  },
  {
   "cell_type": "code",
   "execution_count": 8,
   "metadata": {},
   "outputs": [],
   "source": [
    "# Save file as csv \n",
    "temp_df = pd.DataFrame(index=adata.obs.index, columns=list(adata.var_names),\n",
    "                       data=adata.X.todense())\n",
    "temp_df.to_csv(OUTPUT_PATH+'/data.csv.gz', sep=',', compression='gzip')"
   ]
  },
  {
   "cell_type": "code",
   "execution_count": 12,
   "metadata": {},
   "outputs": [],
   "source": [
    "# See if the file can be read \n",
    "temp_df_ref = pd.read_csv(OUTPUT_PATH+'/data.csv.gz',\n",
    "                          sep=',', compression='gzip', index_col=0)"
   ]
  },
  {
   "cell_type": "code",
   "execution_count": 20,
   "metadata": {},
   "outputs": [
    {
     "data": {
      "text/plain": [
       "0"
      ]
     },
     "execution_count": 20,
     "metadata": {},
     "output_type": "execute_result"
    }
   ],
   "source": [
    "(np.absolute(temp_df_ref.values-temp_df.values)>1e-5).sum()"
   ]
  },
  {
   "cell_type": "code",
   "execution_count": null,
   "metadata": {},
   "outputs": [],
   "source": []
  }
 ],
 "metadata": {
  "kernelspec": {
   "display_name": "Python 3",
   "language": "python",
   "name": "python3"
  },
  "language_info": {
   "codemirror_mode": {
    "name": "ipython",
    "version": 3
   },
   "file_extension": ".py",
   "mimetype": "text/x-python",
   "name": "python",
   "nbconvert_exporter": "python",
   "pygments_lexer": "ipython3",
   "version": "3.6.8"
  }
 },
 "nbformat": 4,
 "nbformat_minor": 2
}
